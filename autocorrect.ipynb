{
  "nbformat": 4,
  "nbformat_minor": 0,
  "metadata": {
    "colab": {
      "provenance": [],
      "authorship_tag": "ABX9TyMHBL2JQWJcdUUINoSRD0XO",
      "include_colab_link": true
    },
    "kernelspec": {
      "name": "python3",
      "display_name": "Python 3"
    },
    "language_info": {
      "name": "python"
    }
  },
  "cells": [
    {
      "cell_type": "markdown",
      "metadata": {
        "id": "view-in-github",
        "colab_type": "text"
      },
      "source": [
        "<a href=\"https://colab.research.google.com/gist/Abhishek-Chhapani/f94bebacf72af48ffc777bd1ab4a9f83/autocorrect.ipynb\" target=\"_parent\"><img src=\"https://colab.research.google.com/assets/colab-badge.svg\" alt=\"Open In Colab\"/></a>"
      ]
    },
    {
      "cell_type": "code",
      "execution_count": null,
      "metadata": {
        "colab": {
          "base_uri": "https://localhost:8080/"
        },
        "id": "85fNZWVaB7FC",
        "outputId": "04e7c692-88fc-451c-8e2f-292c76bab7cc"
      },
      "outputs": [
        {
          "output_type": "stream",
          "name": "stdout",
          "text": [
            "Looking in indexes: https://pypi.org/simple, https://us-python.pkg.dev/colab-wheels/public/simple/\n",
            "Collecting pyspellchecker\n",
            "  Downloading pyspellchecker-0.7.2-py3-none-any.whl (3.4 MB)\n",
            "\u001b[2K     \u001b[90m━━━━━━━━━━━━━━━━━━━━━━━━━━━━━━━━━━━━━━━━\u001b[0m \u001b[32m3.4/3.4 MB\u001b[0m \u001b[31m27.8 MB/s\u001b[0m eta \u001b[36m0:00:00\u001b[0m\n",
            "\u001b[?25hInstalling collected packages: pyspellchecker\n",
            "Successfully installed pyspellchecker-0.7.2\n"
          ]
        }
      ],
      "source": [
        "! pip install pyspellchecker"
      ]
    },
    {
      "cell_type": "code",
      "source": [
        "from spellchecker import SpellChecker\n",
        "spell=SpellChecker()\n",
        "text=input(\"Enter a sentence\")\n",
        "dict_of_autocorrect_words ={}\n",
        "for i in spell.unknown(text.split()):\n",
        "  dict_of_autocorrect_words[i] = spell.correction(i)\n",
        "print(f'The AUTOCORRECT suggestions are Mis-spelled words are {dict_of_autocorrect_words}')\n",
        "temp=text.split()\n",
        "res=[]\n",
        "for wrd in temp:\n",
        "  res.append(dict_of_autocorrect_words.get(wrd, wrd))\n",
        "res=' '.join(res)\n",
        "print(res)"
      ],
      "metadata": {
        "colab": {
          "base_uri": "https://localhost:8080/"
        },
        "id": "veY2QeoVCV6k",
        "outputId": "99f36518-ec49-498d-87d9-77fe3390a581"
      },
      "execution_count": null,
      "outputs": [
        {
          "output_type": "stream",
          "name": "stdout",
          "text": [
            "Enter a sentenceDataa scienttiest is a very promissing carrer\n",
            "The AUTOCORRECT suggestions are Mis-spelled words are {'promissing': 'promising', 'carrer': 'career', 'scienttiest': 'scientist', 'dataa': 'data'}\n",
            "Dataa scientist is a very promising career\n"
          ]
        }
      ]
    }
  ]
}